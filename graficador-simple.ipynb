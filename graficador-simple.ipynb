{
 "cells": [
  {
   "cell_type": "code",
   "execution_count": 1,
   "id": "0afbc483",
   "metadata": {},
   "outputs": [
    {
     "data": {
      "application/javascript": [
       "IPython.OutputArea.prototype._should_scroll = function(lines) {\n",
       "    return false;\n",
       "}\n"
      ],
      "text/plain": [
       "<IPython.core.display.Javascript object>"
      ]
     },
     "metadata": {},
     "output_type": "display_data"
    }
   ],
   "source": [
    "%%javascript\n",
    "IPython.OutputArea.prototype._should_scroll = function(lines) {\n",
    "    return false;\n",
    "}\n"
   ]
  },
  {
   "cell_type": "code",
   "execution_count": 2,
   "id": "2274aaf9",
   "metadata": {},
   "outputs": [],
   "source": [
    "%matplotlib inline\n",
    "import ipywidgets\n",
    "from funciones import *\n",
    "from ipywidgets import fixed\n",
    "from functools import partial\n",
    "from IPython.display import display\n",
    "\n",
    "# backends: notebook, inline, ipympl...\n"
   ]
  },
  {
   "cell_type": "code",
   "execution_count": 3,
   "id": "f4a59856",
   "metadata": {},
   "outputs": [],
   "source": [
    "\n",
    "puntos_rutina_num = [64,128,256,512]\n",
    "\n",
    "\n",
    "puntos_num_bandas = np.arange(6,16,1)\n",
    "#resultados_num_bandas = rutina(num_bandas=6,\n",
    "#       archivo_control='control-num1.ctl',\n",
    "#       control=[6,64,3], # num_bandas, resolucion, mesh;  e,a; e max \n",
    "#       puntos=puntos_num_bandas,\n",
    "#       tipo=['num',0], # num, mat o lineal. indice para introduccion   \n",
    "#       cifras=2, # solo se usa para el balance de proporciones\n",
    "#       nombre='rutina-num-bandas',\n",
    "#       funcion=default\n",
    "#      )\n",
    "\n",
    "puntos_resolucion = [2**(i+4) for i in range(10)]\n",
    "#resultados_resolucion = rutina(num_bandas=6,\n",
    "#       archivo_control='control-num1.ctl',\n",
    "#      control=[6,64,3], # num_bandas, resolucion, mesh;  e,a; e max \n",
    "#       puntos=puntos_resolucion,\n",
    "#       tipo=['num',1], # num, mat o lineal. indice para introduccion   \n",
    "#       cifras=2, # solo se usa para el balance de proporciones\n",
    "#       nombre='rutina-resolucion',\n",
    "#       funcion=default\n",
    "#      )\n",
    "\n",
    "puntos_mesh = np.arange(5, 500, 50)\n",
    "#resultados_mesh = rutina(num_bandas=6,\n",
    "#       archivo_control='control-num1.ctl',\n",
    "#       control=[6,64,3], # num_bandas, resolucion, mesh;  e,a; e max \n",
    "#       puntos=puntos_mesh,\n",
    "#       tipo=['num',2], # num, mat o lineal. indice para introduccion   \n",
    "#       cifras=2, # solo se usa para el balance de proporciones\n",
    "#       nombre='rutina-mesh',\n",
    "#       funcion=default\n",
    "#      )\n",
    "\n",
    "#anhadir interpolacion?\n",
    "\n",
    "puntos_epsilon_a = np.round(np.arange(1.5,6.5,0.5),2)\n"
   ]
  },
  {
   "cell_type": "code",
   "execution_count": 4,
   "id": "c7ad739f",
   "metadata": {},
   "outputs": [
    {
     "name": "stdout",
     "output_type": "stream",
     "text": [
      "1.0000000000509601e-05\n"
     ]
    }
   ],
   "source": [
    "nombre = 'epsilon-a'\n",
    "with open('resultados-' + nombre + '.pkl', 'rb') as f:\n",
    "    resultados = pickle.load(f)\n",
    "\n",
    "nombre = 'epsilon-a-mesh'\n",
    "with open('resultados-' + nombre + '.pkl', 'rb') as f:\n",
    "    resultados_mesh = pickle.load(f)\n",
    "    \n",
    "print(np.max(resultados['tefreqs'][0] - resultados_mesh['tefreqs'][0]))\n"
   ]
  },
  {
   "cell_type": "code",
   "execution_count": 5,
   "id": "63d984f2",
   "metadata": {},
   "outputs": [],
   "source": [
    "def traductor(param_red, resultados):\n",
    "    c = 3.0e8\n",
    "    factor = c/param_red\n",
    "\n",
    "    for i in range(len(resultados['tefreqs'])):\n",
    "        resultados['tefreqs'][i] = factor*resultados['tefreqs'][i]\n",
    "    \n",
    "    resultados['gaps']['Ancho TE'] = factor*resultados['gaps']['Ancho TE']\n",
    "    resultados['gaps']['Prom TE'] = factor*resultados['gaps']['Prom TE']\n",
    "\n",
    "    return resultados\n",
    "\n",
    "\n",
    "def graficador(resultados,\n",
    "               puntos=0,\n",
    "               num_bandas=6,\n",
    "               pola='te',\n",
    "               ejex='Puntos de la rutina (u.i)',\n",
    "               ejey=lambda num_gap: 'Gap ' + str(num_gap) + ' (c/a)',\n",
    "               titulo=lambda num_gap: 'del gap ' + str(num_gap) + ' en función de los puntos de la rutina',\n",
    "               param_red=0.0,\n",
    "               rango=0.0,\n",
    "              ):\n",
    "    \n",
    "    if (pola=='te'):\n",
    "        llaves = ['tefreqs', 'tevels',  'Ancho TE', 'Promedio TE', 'Porcentaje TE']\n",
    "    elif (pola=='tm'):\n",
    "        llaves = ['tmfreqs', 'tmvels',  'Ancho TM', 'Promedio TM', 'Porcentaje TM']\n",
    "    \n",
    "    try:\n",
    "        with open('resultados-' + resultados + '.pkl', 'rb') as f:\n",
    "            resultados = pickle.load(f)\n",
    "    except:\n",
    "        try:\n",
    "            with open(resultados + '/resultados-' + resultados + '.pkl', 'rb') as f:\n",
    "                resultados = pickle.load(f)\n",
    "        except:\n",
    "            pass\n",
    "    \n",
    "    if isinstance(puntos, int): puntos = resultados['puntos']\n",
    "    \n",
    "    #try:\n",
    "    #    if (puntos==0): puntos = resultados['puntos']\n",
    "    #    else: print('puntos de rutina no valido')\n",
    "    #except:\n",
    "    #    pass\n",
    "    \n",
    "    if (param_red != 0.0):\n",
    "        resultados = traductor(param_red, resultados)\n",
    "    \n",
    "    def func_indice(valor): \n",
    "        try:\n",
    "            indice = int(np.where(puntos == valor)[0][0])\n",
    "        except:\n",
    "            indice = puntos.index(valor)\n",
    "        return indice\n",
    "    \n",
    "    def graf_bandas(valor, num_bandas, track=num_bandas-1):\n",
    "        indice = func_indice(valor)\n",
    "        fig, ax = plt.subplots()\n",
    "        for i in range(track+1):\n",
    "            k_vector = np.linspace(-0.5, 0.5, int(len(resultados[llaves[0]][indice][i])))\n",
    "            ax.scatter(k_vector, resultados[llaves[0]][indice][i], c='r', s=0.1)\n",
    "        \n",
    "        parametros = resultados['parametros'][indice]\n",
    "        identidad = str(parametros[0])\n",
    "        for i in range(len(parametros)-1):\n",
    "            identidad = identidad + '-' + str(parametros[i+1])\n",
    "\n",
    "        ax.set_xlabel('Vector de onda (ka/2pi)')\n",
    "        ax.set_ylabel('Frecuencia (wa/2pic)')\n",
    "        ax.set_title(str(track+1) + \" bandas \" + pola.upper() + \" con \" + identidad)\n",
    "        \n",
    "        if (rango != 0.0):\n",
    "            ax.set_ylim(rango)\n",
    "        \n",
    "    def graf_vels(valor, num_bandas, track=num_bandas-1):\n",
    "        indice = func_indice(valor)\n",
    "        fig, ax = plt.subplots()\n",
    "        for i in range(track+1):\n",
    "            k_vector = np.linspace(-0.5, 0.5, int(len(resultados[llaves[1]][indice][i])))\n",
    "            ax.scatter(k_vector, resultados[llaves[1]][indice][i], c='r', s=0.1)\n",
    "        \n",
    "        parametros = resultados['parametros'][indice]\n",
    "        identidad = str(parametros[0])\n",
    "        for i in range(len(parametros)-1):\n",
    "            identidad = identidad + '-' + str(parametros[i+1])\n",
    "\n",
    "        ax.set_xlabel('Vector de onda (ka/2pi)')\n",
    "        ax.set_ylabel('Frecuencia (wa/2pic)')\n",
    "        ax.set_title(str(track+1) + \" bandas \" + pola.upper() + \" con \" + identidad)\n",
    "        \n",
    "        if (rango != 0.0):\n",
    "            ax.set_ylim(rango)\n",
    "        \n",
    "    def graf_rutina(num_gap=1,tipo=llaves[2]):\n",
    "        fig, ax = plt.subplots()\n",
    "        fig.subplots_adjust(0.2,0.2)\n",
    "        plt.ticklabel_format(style='plain', useOffset=False)\n",
    "        ax.scatter(puntos, resultados['gaps'][tipo][num_gap-1], c='r')\n",
    "        ax.set_xlabel('Puntos de la rutina (u.i)')\n",
    "        ax.set_ylabel((ejey)(num_gap))\n",
    "        if (tipo==llaves[2]):\n",
    "            ax.set_title(\"Ancho \" + (titulo)(num_gap))\n",
    "            if (param_red != 0.0):\n",
    "                ax.ticklabel_format(style='sci',scilimits=(0,0),axis='y')\n",
    "        elif (tipo==llaves[3]):\n",
    "            ax.set_title(\"Promedio \" + (titulo)(num_gap))\n",
    "            if (param_red != 0.0):\n",
    "                ax.ticklabel_format(style='sci',scilimits=(0,0),axis='y')\n",
    "        else:\n",
    "            ax.set_title(\"Porcentaje \" + (titulo)(num_gap))\n",
    "        \n",
    "    \n",
    "    ipywidgets.interact(graf_bandas,\n",
    "                        valor=ipywidgets.SelectionSlider(description='e1',\n",
    "                                                         options=puntos\n",
    "                                                        ),\n",
    "                        num_bandas=fixed(num_bandas),\n",
    "                        track=fixed(num_bandas-1)\n",
    "                       )\n",
    "    \n",
    "    ipywidgets.interact(graf_rutina,\n",
    "                        num_gap=ipywidgets.SelectionSlider(description='Gap',\n",
    "                                                         options=np.arange(1,num_bandas,1)\n",
    "                                                        ),\n",
    "                        tipo=ipywidgets.Dropdown(options=[llaves[2], llaves[3], llaves[4]],\n",
    "                                             value=llaves[2],\n",
    "                                             description='Serie:',\n",
    "                                             disabled=False,\n",
    "                                            )\n",
    "                       )\n"
   ]
  },
  {
   "cell_type": "code",
   "execution_count": 6,
   "id": "e3fbaea5",
   "metadata": {},
   "outputs": [
    {
     "data": {
      "application/vnd.jupyter.widget-view+json": {
       "model_id": "2ab25e4d3a104af29633d736928f47bd",
       "version_major": 2,
       "version_minor": 0
      },
      "text/plain": [
       "interactive(children=(SelectionSlider(description='e1', options=(1.5, 2.0, 2.5, 3.0, 3.5, 4.0, 4.5, 5.0, 5.5, …"
      ]
     },
     "metadata": {},
     "output_type": "display_data"
    },
    {
     "data": {
      "application/vnd.jupyter.widget-view+json": {
       "model_id": "e2e4a66a25344e79aa39b5068b5d7b80",
       "version_major": 2,
       "version_minor": 0
      },
      "text/plain": [
       "interactive(children=(SelectionSlider(description='Gap', options=(1, 2, 3, 4, 5), value=1), Dropdown(descripti…"
      ]
     },
     "metadata": {},
     "output_type": "display_data"
    }
   ],
   "source": [
    "graficador('epsilon-a',\n",
    "           #puntos=puntos_epsilon_a,\n",
    "           #num_bandas=6,\n",
    "           #pola='te'#,\n",
    "           #ejex='Puntos de la rutina (u.i)',\n",
    "           #ejey=lambda num_gap: 'Gap ' + str(num_gap) + ' (c/a)',\n",
    "           #titulo=lambda num_gap: 'del gap ' + str(num_gap) + ' en función de los puntos de la rutina',\n",
    "           #param_red=0.63e-6,\n",
    "           #rango=[0.0,1.0e15]\n",
    "          )"
   ]
  },
  {
   "cell_type": "code",
   "execution_count": 7,
   "id": "ab6515a2",
   "metadata": {},
   "outputs": [
    {
     "data": {
      "application/vnd.jupyter.widget-view+json": {
       "model_id": "7d4727db5e154a94bea60b1e8c7d3416",
       "version_major": 2,
       "version_minor": 0
      },
      "text/plain": [
       "interactive(children=(SelectionSlider(description='e1', options=('r', 'u', 't', 'i', 'n', 'a', '-', 'n', 'u', …"
      ]
     },
     "metadata": {},
     "output_type": "display_data"
    },
    {
     "data": {
      "image/png": "[encoded data removed]",
      "text/plain": [
       "<Figure size 640x480 with 1 Axes>"
      ]
     },
     "metadata": {},
     "output_type": "display_data"
    },
    {
     "data": {
      "application/vnd.jupyter.widget-view+json": {
       "model_id": "f25cb5d6b0be488daa3ec594e8786d13",
       "version_major": 2,
       "version_minor": 0
      },
      "text/plain": [
       "interactive(children=(SelectionSlider(description='Gap', options=(1, 2, 3, 4, 5), value=1), Dropdown(descripti…"
      ]
     },
     "metadata": {},
     "output_type": "display_data"
    },
    {
     "data": {
      "image/png": "[encoded data removed]",
      "text/plain": [
       "<Figure size 640x480 with 1 Axes>"
      ]
     },
     "metadata": {},
     "output_type": "display_data"
    }
   ],
   "source": [
    "graficador(puntos_rutina_num,\n",
    "           'rutina-num'#,\n",
    "           #ejex='Puntos de la rutina (u.i)',\n",
    "           #ejey=lambda num_gap: 'Gap ' + str(num_gap) + ' (c/a)',\n",
    "           #titulo=lambda num_gap: 'del gap ' + str(num_gap) + ' en función de los puntos de la rutina',\n",
    "           #param_red=0.63e-6,\n",
    "           #rango=[0.0,1.0e15]\n",
    "          )"
   ]
  },
  {
   "cell_type": "code",
   "execution_count": 8,
   "id": "23100add",
   "metadata": {},
   "outputs": [
    {
     "data": {
      "application/vnd.jupyter.widget-view+json": {
       "model_id": "e17f6506b1cf40c081c18c3d5e7bba2f",
       "version_major": 2,
       "version_minor": 0
      },
      "text/plain": [
       "interactive(children=(SelectionSlider(description='e1', options=('r', 'u', 't', 'i', 'n', 'a', '-', 'n', 'u', …"
      ]
     },
     "metadata": {},
     "output_type": "display_data"
    },
    {
     "data": {
      "image/png": "[encoded data removed]",
      "text/plain": [
       "<Figure size 640x480 with 1 Axes>"
      ]
     },
     "metadata": {},
     "output_type": "display_data"
    },
    {
     "data": {
      "application/vnd.jupyter.widget-view+json": {
       "model_id": "1cdad37cc67f47c4a6cbc30f239137a2",
       "version_major": 2,
       "version_minor": 0
      },
      "text/plain": [
       "interactive(children=(SelectionSlider(description='Gap', options=(1, 2, 3, 4, 5), value=1), Dropdown(descripti…"
      ]
     },
     "metadata": {},
     "output_type": "display_data"
    },
    {
     "data": {
      "image/png": "[encoded data removed]",
      "text/plain": [
       "<Figure size 640x480 with 1 Axes>"
      ]
     },
     "metadata": {},
     "output_type": "display_data"
    }
   ],
   "source": [
    "graficador(puntos_num_bandas,\n",
    "           'rutina-num-bandas'#,\n",
    "           #ejex='Puntos de la rutina (u.i)',\n",
    "           #ejey=lambda num_gap: 'Gap ' + str(num_gap) + ' (c/a)',\n",
    "           #titulo=lambda num_gap: 'del gap ' + str(num_gap) + ' en función de los puntos de la rutina',\n",
    "           #param_red=0.63e-6,\n",
    "           #rango=[0.0,1.0e15]\n",
    "          )"
   ]
  },
  {
   "cell_type": "code",
   "execution_count": 9,
   "id": "6f65c721",
   "metadata": {},
   "outputs": [
    {
     "data": {
      "application/vnd.jupyter.widget-view+json": {
       "model_id": "7fb0478448f847048bdd2010d1955bb3",
       "version_major": 2,
       "version_minor": 0
      },
      "text/plain": [
       "interactive(children=(SelectionSlider(description='e1', options=('r', 'u', 't', 'i', 'n', 'a', '-', 'r', 'e', …"
      ]
     },
     "metadata": {},
     "output_type": "display_data"
    },
    {
     "data": {
      "image/png": "[encoded data removed]",
      "text/plain": [
       "<Figure size 640x480 with 1 Axes>"
      ]
     },
     "metadata": {},
     "output_type": "display_data"
    },
    {
     "data": {
      "application/vnd.jupyter.widget-view+json": {
       "model_id": "c4fc0d7fd3d142cf97b01b5fd1752a16",
       "version_major": 2,
       "version_minor": 0
      },
      "text/plain": [
       "interactive(children=(SelectionSlider(description='Gap', options=(1, 2, 3, 4, 5), value=1), Dropdown(descripti…"
      ]
     },
     "metadata": {},
     "output_type": "display_data"
    },
    {
     "data": {
      "image/png": "[encoded data removed]",
      "text/plain": [
       "<Figure size 640x480 with 1 Axes>"
      ]
     },
     "metadata": {},
     "output_type": "display_data"
    }
   ],
   "source": [
    "graficador(puntos_resolucion,\n",
    "           'rutina-resolucion'#,\n",
    "           #ejex='Puntos de la rutina (u.i)',\n",
    "           #ejey=lambda num_gap: 'Gap ' + str(num_gap) + ' (c/a)',\n",
    "           #titulo=lambda num_gap: 'del gap ' + str(num_gap) + ' en función de los puntos de la rutina',\n",
    "           #param_red=0.63e-6,\n",
    "           #rango=[0.0,1.0e15]\n",
    "          )"
   ]
  },
  {
   "cell_type": "code",
   "execution_count": 10,
   "id": "a67e0dda",
   "metadata": {},
   "outputs": [
    {
     "data": {
      "application/vnd.jupyter.widget-view+json": {
       "model_id": "2e84a07c4cd941b8af32a0b891023df8",
       "version_major": 2,
       "version_minor": 0
      },
      "text/plain": [
       "interactive(children=(SelectionSlider(description='e1', options=('r', 'u', 't', 'i', 'n', 'a', '-', 'm', 'e', …"
      ]
     },
     "metadata": {},
     "output_type": "display_data"
    },
    {
     "data": {
      "image/png": "[encoded data removed]",
      "text/plain": [
       "<Figure size 640x480 with 1 Axes>"
      ]
     },
     "metadata": {},
     "output_type": "display_data"
    },
    {
     "data": {
      "application/vnd.jupyter.widget-view+json": {
       "model_id": "bebd5a77936f40d28dc66e6795fc7fb8",
       "version_major": 2,
       "version_minor": 0
      },
      "text/plain": [
       "interactive(children=(SelectionSlider(description='Gap', options=(1, 2, 3, 4, 5), value=1), Dropdown(descripti…"
      ]
     },
     "metadata": {},
     "output_type": "display_data"
    },
    {
     "data": {
      "image/png": "[encoded data removed]",
      "text/plain": [
       "<Figure size 640x480 with 1 Axes>"
      ]
     },
     "metadata": {},
     "output_type": "display_data"
    }
   ],
   "source": [
    "graficador(puntos_mesh,\n",
    "           'rutina-mesh'#,\n",
    "           #ejex='Puntos de la rutina (u.i)',\n",
    "           #ejey=lambda num_gap: 'Gap ' + str(num_gap) + ' (c/a)',\n",
    "           #titulo=lambda num_gap: 'del gap ' + str(num_gap) + ' en función de los puntos de la rutina',\n",
    "           #param_red=0.63e-6,\n",
    "           #rango=[0.0,1.0e15]\n",
    "          )"
   ]
  }
 ],
 "metadata": {
  "kernelspec": {
   "display_name": "Python 3 (ipykernel)",
   "language": "python",
   "name": "python3"
  },
  "language_info": {
   "codemirror_mode": {
    "name": "ipython",
    "version": 3
   },
   "file_extension": ".py",
   "mimetype": "text/x-python",
   "name": "python",
   "nbconvert_exporter": "python",
   "pygments_lexer": "ipython3",
   "version": "3.9.13"
  }
 },
 "nbformat": 4,
 "nbformat_minor": 5
}
