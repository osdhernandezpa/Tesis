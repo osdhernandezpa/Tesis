{
 "cells": [
  {
   "cell_type": "code",
   "execution_count": 1,
   "id": "64a9fcf5",
   "metadata": {},
   "outputs": [
    {
     "data": {
      "application/javascript": [
       "IPython.OutputArea.prototype._should_scroll = function(lines) {\n",
       "    return false;\n",
       "}\n"
      ],
      "text/plain": [
       "<IPython.core.display.Javascript object>"
      ]
     },
     "metadata": {},
     "output_type": "display_data"
    }
   ],
   "source": [
    "%%javascript\n",
    "IPython.OutputArea.prototype._should_scroll = function(lines) {\n",
    "    return false;\n",
    "}\n"
   ]
  },
  {
   "cell_type": "code",
   "execution_count": 2,
   "id": "a7898a4c",
   "metadata": {},
   "outputs": [],
   "source": [
    "%matplotlib inline\n",
    "import ipywidgets\n",
    "from funciones import *\n",
    "from ipywidgets import fixed\n",
    "from functools import partial\n",
    "from IPython.display import display\n",
    "from mpl_toolkits.mplot3d import axes3d\n",
    "\n",
    "# backends: notebook, inline, ipympl...\n"
   ]
  },
  {
   "cell_type": "code",
   "execution_count": 3,
   "id": "71932eea",
   "metadata": {},
   "outputs": [
    {
     "name": "stdout",
     "output_type": "stream",
     "text": [
      "[[1.5, 0.4], [2.5, 0.4], [3.5, 0.4], [1.5, 0.6], [2.5, 0.6], [3.5, 0.6], [1.5, 0.8], [2.5, 0.8], [3.5, 0.8]]\n"
     ]
    }
   ],
   "source": [
    "\n",
    "puntos_prueba1 = [1.5,2.5,3.5]\n",
    "puntos_prueba2 = [0.4,0.6,0.8]\n",
    "\n",
    "'''\n",
    "resultados = rutina_doble(num_bandas=8,\n",
    "           archivo_control=ctl_num([20,512,50,500], 'control-2mat.ctl'),\n",
    "           control=[2.35,1.0,0.81,0.19], #e1,e2,e3,a1,a2,a3\n",
    "           puntos1=[1.5,2.5,3.5],\n",
    "           puntos2=[0.4,0.6,0.8],\n",
    "           tipo=['2mat',0,2], # num, mat o lineal. indice (en control) para introduccion   \n",
    "           cifras=2, # solo se usa para el balance de proporciones\n",
    "           nombre='rutina-doble',\n",
    "           funcion=partial(balance_proporcional2,\n",
    "                           puntos=[0.4,0.6,0.8],\n",
    "                           material=1,\n",
    "                           cifras=2\n",
    "                          )\n",
    "          )\n",
    "'''\n",
    "\n",
    "with open('resultados-rutina-doble.pkl', 'rb') as f:\n",
    "    resultados0 = pickle.load(f)\n",
    "\n",
    "print(resultados0['lista'])\n",
    "    "
   ]
  },
  {
   "cell_type": "code",
   "execution_count": 4,
   "id": "a59758a8",
   "metadata": {},
   "outputs": [
    {
     "name": "stdout",
     "output_type": "stream",
     "text": [
      "[[1.5, 0.4], [2.5, 0.4], [3.5, 0.4], [1.5, 0.6], [2.5, 0.6], [3.5, 0.6], [1.5, 0.8], [2.5, 0.8], [3.5, 0.8]]\n"
     ]
    }
   ],
   "source": [
    "#print(resultados)\n",
    "grilla1 , grilla2 = np.meshgrid(puntos_prueba1, puntos_prueba2)\n",
    "Z = np.zeros((len(grilla1), len(grilla1[0]) ))\n",
    "\n",
    "#for i in range(len(grilla1)):\n",
    "#    for j in range(len(grilla1[0])):\n",
    "#        Z[i][j] = extraer(grilla1[i][j],grilla2[i][j],num_gap,tipo,resultados)      \n",
    "    \n",
    "lista = []\n",
    "for i in range(len(puntos_prueba2)):\n",
    "    for j in range(len(puntos_prueba1)):\n",
    "        lista.append([grilla1[i][j], grilla2[i][j]])\n",
    "\n",
    "print(lista)\n"
   ]
  },
  {
   "cell_type": "code",
   "execution_count": 9,
   "id": "44dbeb74",
   "metadata": {},
   "outputs": [],
   "source": [
    "def traductor(param_red, resultados):\n",
    "    c = 3.0e8\n",
    "    factor = c/param_red\n",
    "\n",
    "    for i in range(len(resultados['tefreqs'])):\n",
    "        resultados['tefreqs'][i] = factor*resultados['tefreqs'][i]\n",
    "    \n",
    "    resultados['gaps']['Ancho TE'] = factor*resultados['gaps']['Ancho TE']\n",
    "    resultados['gaps']['Prom TE'] = factor*resultados['gaps']['Prom TE']\n",
    "\n",
    "    return resultados\n",
    "\n",
    "\n",
    "def graficador(resultados,\n",
    "               puntos1=0,\n",
    "               puntos2=0,\n",
    "               num_bandas=6,\n",
    "               pola='te',\n",
    "               ejex='Puntos de la rutina (u.i)',\n",
    "               ejey=lambda num_gap: 'Gap ' + str(num_gap) + ' (c/a)',\n",
    "               titulo=lambda num_gap: 'del gap ' + str(num_gap) + ' en función de los puntos de la rutina',\n",
    "               param_red=0.0,\n",
    "               rango=0.0,\n",
    "              ):\n",
    "    \n",
    "    try:\n",
    "        with open('resultados-' + resultados + '.pkl', 'rb') as f:\n",
    "            resultados = pickle.load(f)\n",
    "    except:\n",
    "        try:\n",
    "            with open(resultados + '/resultados-' + resultados + '.pkl', 'rb') as f:\n",
    "                resultados = pickle.load(f)\n",
    "        except:\n",
    "            pass\n",
    "        \n",
    "    if isinstance(puntos1, int): puntos1 = resultados['puntos'][0]\n",
    "    if isinstance(puntos2, int): puntos2 = resultados['puntos'][1]\n",
    "    \n",
    "    grilla1 , grilla2 = np.meshgrid(puntos1, puntos2)\n",
    "    Z = np.zeros((len(grilla1), len(grilla1[0]) )) \n",
    "    \n",
    "    lista = []\n",
    "    for i in range(len(puntos2)):\n",
    "        for j in range(len(puntos1)):\n",
    "            lista.append([grilla1[i][j], grilla2[i][j]])\n",
    "    \n",
    "    if (pola=='te'):\n",
    "        llaves = ['tefreqs', 'tevels',  'Ancho TE', 'Promedio TE', 'Porcentaje TE']\n",
    "    elif (pola=='tm'):\n",
    "        llaves = ['tmfreqs', 'tmvels',  'Ancho TM', 'Promedio TM', 'Porcentaje TM']\n",
    "    \n",
    "    if (param_red != 0.0):\n",
    "        resultados = traductor(param_red, resultados)\n",
    "    \n",
    "    def func_indice(valor,donde): \n",
    "        try:\n",
    "            indice = int(np.where(donde == valor)[0][0])\n",
    "        except:\n",
    "            indice = donde.index(valor)\n",
    "        return indice\n",
    "    \n",
    "    def graf_bandas(valor1, valor2, num_bandas, track=num_bandas-1):\n",
    "        indice = func_indice([valor1,valor2],lista)\n",
    "        fig, ax = plt.subplots()\n",
    "        for i in range(track+1):\n",
    "            k_vector = np.linspace(-0.5, 0.5, int(len(resultados[llaves[0]][indice][i])))\n",
    "            ax.scatter(k_vector, resultados[llaves[0]][indice][i], c='r', s=0.1)\n",
    "        \n",
    "        parametros = resultados['parametros'][indice]\n",
    "        identidad = str(parametros[0])\n",
    "        for i in range(len(parametros)-1):\n",
    "            identidad = identidad + '-' + str(parametros[i+1])\n",
    "\n",
    "        ax.set_xlabel('Vector de onda (ka/2pi)')\n",
    "        ax.set_ylabel('Frecuencia (wa/2pic)')\n",
    "        ax.set_title(str(track+1) + \" bandas \" + pola.upper() + \" con \" + identidad)\n",
    "        \n",
    "        if (rango != 0.0):\n",
    "            ax.set_ylim(rango)\n",
    "        \n",
    "    def graf_vels(valor1, valor2, num_bandas=num_bandas, track=num_bandas-1):\n",
    "        indice = func_indice([valor1,valor2],lista)\n",
    "        fig, ax = plt.subplots()\n",
    "        for i in range(track+1):\n",
    "            k_vector = np.linspace(-0.5, 0.5, int(len(resultados[llaves[1]][indice][i])))\n",
    "            ax.scatter(k_vector, resultados[llaves[1]][indice][i], c='r', s=0.1)\n",
    "        \n",
    "        parametros = resultados['parametros'][indice]\n",
    "        identidad = str(parametros[0])\n",
    "        for i in range(len(parametros)-1):\n",
    "            identidad = identidad + '-' + str(parametros[i+1])\n",
    "\n",
    "        ax.set_xlabel('Vector de onda (ka/2pi)')\n",
    "        ax.set_ylabel('Frecuencia (wa/2pic)')\n",
    "        ax.set_title(str(track+1) + \" bandas \" + pola.upper() + \" con \" + identidad)\n",
    "        \n",
    "        if (rango != 0.0):\n",
    "            ax.set_ylim(rango)\n",
    "            \n",
    "    def graf_3d(num_gap=1, tipo=llaves[2]):\n",
    "        #grilla1 , grilla2 = np.meshgrid(puntos1, puntos2)\n",
    "        #Z = np.zeros((len(grilla1), len(grilla1[0]) ))\n",
    "        for i in range(len(grilla1)):\n",
    "            for j in range(len(grilla1[0])):\n",
    "                indice = func_indice([grilla1[i][j],grilla2[i][j]],lista)\n",
    "                Z[i][j] = resultados['gaps'][tipo][num_gap-1][indice]\n",
    "    \n",
    "        fig = plt.figure()\n",
    "        ax = fig.add_subplot(projection='3d')\n",
    "        #ax.plot_wireframe(grilla1,grilla2,Z)\n",
    "        #ax.plot_surface(grilla1,grilla2,Z)\n",
    "        ax.scatter(grilla1,grilla2,Z)\n",
    "        ax.set_xlabel(\"Contraste dieléctrico\")\n",
    "        ax.set_ylabel(\"Proporción material dieléctrico\")\n",
    "        ax.set_zlabel('Gap ' + str(num_gap) + ' (c/a)')\n",
    "        if (tipo==llaves[2]):\n",
    "            ax.set_title(\"Ancho del gap \" + str(num_gap) + \" en función de contraste y proporción de material\")\n",
    "        elif (tipo==llaves[3]):\n",
    "            ax.set_title(\"Promedio del gap \" + str(num_gap) + \" en función de contraste y proporción de material\")\n",
    "        else:\n",
    "            ax.set_title(\"Porcentaje del gap \" + str(num_gap) + \" en función de contraste y proporción de material\")\n",
    "        #ax.set_zlabel(\"omega\")\n",
    "        #ax.set_title(\"función de contraste y proporción de material\")\n",
    "\n",
    "    def graf_color(num_gap=1, tipo=llaves[2]):\n",
    "        #grilla1 , grilla2 = np.meshgrid(puntos1, puntos2)\n",
    "        #Z = np.zeros((len(grilla1), len(grilla1[0]) ))\n",
    "        for i in range(len(grilla1)):\n",
    "            for j in range(len(grilla1[0])):\n",
    "                indice = func_indice([grilla1[i][j],grilla2[i][j]],lista)\n",
    "                Z[i][j] = resultados['gaps'][tipo][num_gap-1][indice]     \n",
    "    \n",
    "        #fig = plt.figure()\n",
    "        #plt.pcolormesh(puntos_epsilon_fino, puntos_tamanho_fino,Z)\n",
    "        #plt.colorbar()\n",
    "        \n",
    "        fig, ax = plt.subplots()\n",
    "        plt.pcolormesh(puntos1,puntos2,Z)\n",
    "        cbar = plt.colorbar()\n",
    "        ax.set_xlabel(\"Contraste dieléctrico (adim.)\")\n",
    "        ax.set_ylabel(\"Proporción material dieléctrico (adim.)\")\n",
    "        cbar.set_label('Gap ' + str(num_gap) + ' (c/a)')\n",
    "        \n",
    "        #opcional\n",
    "        #plt.xticks(puntos_epsilon_doble)\n",
    "        #plt.yticks(puntos_tamanho_doble)\n",
    "        \n",
    "        \n",
    "    def graf_proyeccion1(valor2, num_gap=1,tipo=llaves[2]):\n",
    "        matriz = np.resize(resultados['gaps'][tipo][num_gap-1],( int(len(puntos2)),int(len(puntos1)) ))\n",
    "        indice = func_indice(valor2,puntos2)\n",
    "        fig, ax = plt.subplots()\n",
    "        fig.subplots_adjust(0.2,0.2)\n",
    "        plt.ticklabel_format(style='plain', useOffset=False)\n",
    "        ax.scatter(puntos1, matriz[indice], c='r')\n",
    "        ax.set_xlabel('Puntos de la rutina (u.i)')\n",
    "        ax.set_ylabel((ejey)(num_gap))\n",
    "        if (tipo==llaves[2]):\n",
    "            ax.set_title(\"Ancho \" + (titulo)(num_gap))\n",
    "            if (param_red != 0.0):\n",
    "                ax.ticklabel_format(style='sci',scilimits=(0,0),axis='y')\n",
    "        elif (tipo==llaves[3]):\n",
    "            ax.set_title(\"Promedio \" + (titulo)(num_gap))\n",
    "            if (param_red != 0.0):\n",
    "                ax.ticklabel_format(style='sci',scilimits=(0,0),axis='y')\n",
    "        else:\n",
    "            ax.set_title(\"Porcentaje \" + (titulo)(num_gap))\n",
    "        \n",
    "    def graf_proyeccion2(valor1, num_gap=1,tipo=llaves[2]):\n",
    "        matriz = np.resize(resultados['gaps'][tipo][num_gap-1],( int(len(puntos2)),int(len(puntos1)) ))\n",
    "        indice = func_indice(valor1,puntos1)\n",
    "        fig, ax = plt.subplots()\n",
    "        fig.subplots_adjust(0.2,0.2)\n",
    "        plt.ticklabel_format(style='plain', useOffset=False)\n",
    "        ax.scatter(puntos2, np.transpose(matriz)[indice], c='r')\n",
    "        ax.set_xlabel('Puntos de la rutina (u.i)')\n",
    "        ax.set_ylabel((ejey)(num_gap))\n",
    "        if (tipo==llaves[2]):\n",
    "            ax.set_title(\"Ancho \" + (titulo)(num_gap))\n",
    "            if (param_red != 0.0):\n",
    "                ax.ticklabel_format(style='sci',scilimits=(0,0),axis='y')\n",
    "        elif (tipo==llaves[3]):\n",
    "            ax.set_title(\"Promedio \" + (titulo)(num_gap))\n",
    "            if (param_red != 0.0):\n",
    "                ax.ticklabel_format(style='sci',scilimits=(0,0),axis='y')\n",
    "        else:\n",
    "            ax.set_title(\"Porcentaje \" + (titulo)(num_gap))\n",
    "            \n",
    "    \n",
    "    ipywidgets.interact(graf_bandas,\n",
    "                        valor1=ipywidgets.SelectionSlider(description='e1',\n",
    "                                                         options=puntos1\n",
    "                                                        ),\n",
    "                        valor2=ipywidgets.SelectionSlider(description='e1',\n",
    "                                                         options=puntos2\n",
    "                                                        ),\n",
    "                        num_bandas=fixed(num_bandas),\n",
    "                        track=fixed(num_bandas-1)\n",
    "                       )\n",
    "    \n",
    "    ipywidgets.interact(graf_3d,\n",
    "                        num_gap=ipywidgets.SelectionSlider(description='Gap',\n",
    "                                                         options=np.arange(1,num_bandas,1)\n",
    "                                                        ),\n",
    "                        tipo=ipywidgets.Dropdown(options=[llaves[2], llaves[3], llaves[4]],\n",
    "                                             value=llaves[2],\n",
    "                                             description='Serie:',\n",
    "                                             disabled=False,\n",
    "                                            )\n",
    "                       )\n",
    "    \n",
    "    ipywidgets.interact(graf_color,\n",
    "                        num_gap=ipywidgets.SelectionSlider(description='Gap',\n",
    "                                                         options=np.arange(1,num_bandas,1)\n",
    "                                                        ),\n",
    "                        tipo=ipywidgets.Dropdown(options=[llaves[2], llaves[3], llaves[4]],\n",
    "                                             value=llaves[2],\n",
    "                                             description='Serie:',\n",
    "                                             disabled=False,\n",
    "                                            )\n",
    "                       )\n",
    "    \n",
    "    ipywidgets.interact(graf_proyeccion1,\n",
    "                        valor2=ipywidgets.SelectionSlider(description='e1',\n",
    "                                                         options=puntos2\n",
    "                                                        ),\n",
    "                        num_gap=ipywidgets.SelectionSlider(description='Gap',\n",
    "                                                         options=np.arange(1,num_bandas,1)\n",
    "                                                        ),\n",
    "                        tipo=ipywidgets.Dropdown(options=[llaves[2], llaves[3], llaves[4]],\n",
    "                                             value=llaves[2],\n",
    "                                             description='Serie:',\n",
    "                                             disabled=False,\n",
    "                                            )\n",
    "                       )\n",
    "\n",
    "    ipywidgets.interact(graf_proyeccion2,\n",
    "                        valor1=ipywidgets.SelectionSlider(description='e1',\n",
    "                                                         options=puntos1\n",
    "                                                        ),\n",
    "                        num_gap=ipywidgets.SelectionSlider(description='Gap',\n",
    "                                                         options=np.arange(1,num_bandas,1)\n",
    "                                                        ),\n",
    "                        tipo=ipywidgets.Dropdown(options=[llaves[2], llaves[3], llaves[4]],\n",
    "                                             value=llaves[2],\n",
    "                                             description='Serie:',\n",
    "                                             disabled=False,\n",
    "                                            )\n",
    "                       )"
   ]
  },
  {
   "cell_type": "code",
   "execution_count": 6,
   "id": "67cc3420",
   "metadata": {},
   "outputs": [
    {
     "data": {
      "text/plain": [
       "array([0.0583592 , 0.11719931, 0.14319887, 0.05075105, 0.08580411,\n",
       "       0.09438936, 0.02776557, 0.04157666, 0.04313703])"
      ]
     },
     "execution_count": 6,
     "metadata": {},
     "output_type": "execute_result"
    }
   ],
   "source": [
    "'''\n",
    "graficador(puntos_prueba1,\n",
    "           puntos_prueba2,\n",
    "           resultados,\n",
    "           num_bandas=6,\n",
    "           pola='te',\n",
    "           #ejex='Puntos de la rutina (u.i)',\n",
    "           #ejey=lambda num_gap: 'Gap ' + str(num_gap) + ' (c/a)',\n",
    "           #titulo=lambda num_gap: 'del gap ' + str(num_gap) + ' en función de los puntos de la rutina',\n",
    "           #param_red=0.0,\n",
    "           #rango=0.0,\n",
    "          )\n",
    "'''\n",
    "resultados0['gaps']['Ancho TE'][0]"
   ]
  },
  {
   "cell_type": "code",
   "execution_count": 11,
   "id": "7daefe3d",
   "metadata": {},
   "outputs": [],
   "source": [
    "#graficador(resultados0)#,\n",
    "           #puntos_prueba1,\n",
    "           #puntos_prueba2,\n",
    "           #num_bandas=6,\n",
    "           #pola='te',\n",
    "           #ejex='Puntos de la rutina (u.i)',\n",
    "           #ejey=lambda num_gap: 'Gap ' + str(num_gap) + ' (c/a)',\n",
    "           #titulo=lambda num_gap: 'del gap ' + str(num_gap) + ' en función de los puntos de la rutina',\n",
    "           #param_red=0.0,\n",
    "           #rango=0.0,\n",
    "          #)"
   ]
  },
  {
   "cell_type": "code",
   "execution_count": 10,
   "id": "bdb92791",
   "metadata": {},
   "outputs": [
    {
     "data": {
      "application/vnd.jupyter.widget-view+json": {
       "model_id": "b35c7648f6514294b009fea4c22c2394",
       "version_major": 2,
       "version_minor": 0
      },
      "text/plain": [
       "interactive(children=(SelectionSlider(description='e1', options=(1.0, 1.5, 2.0, 2.5, 3.0, 3.5, 4.0, 4.5, 5.0, …"
      ]
     },
     "metadata": {},
     "output_type": "display_data"
    },
    {
     "data": {
      "application/vnd.jupyter.widget-view+json": {
       "model_id": "a4ea96dcec0c42829a118a0dc975b361",
       "version_major": 2,
       "version_minor": 0
      },
      "text/plain": [
       "interactive(children=(SelectionSlider(description='Gap', options=(1, 2, 3, 4, 5), value=1), Dropdown(descripti…"
      ]
     },
     "metadata": {},
     "output_type": "display_data"
    },
    {
     "data": {
      "application/vnd.jupyter.widget-view+json": {
       "model_id": "35b7cb421f464997ace3f85406819207",
       "version_major": 2,
       "version_minor": 0
      },
      "text/plain": [
       "interactive(children=(SelectionSlider(description='Gap', options=(1, 2, 3, 4, 5), value=1), Dropdown(descripti…"
      ]
     },
     "metadata": {},
     "output_type": "display_data"
    },
    {
     "data": {
      "application/vnd.jupyter.widget-view+json": {
       "model_id": "d53f77e6d43a4d91b4976805f1156ac2",
       "version_major": 2,
       "version_minor": 0
      },
      "text/plain": [
       "interactive(children=(SelectionSlider(description='e1', options=(0.0, 0.1, 0.2, 0.3, 0.4, 0.5, 0.6, 0.7, 0.8, …"
      ]
     },
     "metadata": {},
     "output_type": "display_data"
    },
    {
     "data": {
      "application/vnd.jupyter.widget-view+json": {
       "model_id": "e91eb9101c2749e4a506cf85b104cf84",
       "version_major": 2,
       "version_minor": 0
      },
      "text/plain": [
       "interactive(children=(SelectionSlider(description='e1', options=(1.0, 1.5, 2.0, 2.5, 3.0, 3.5, 4.0, 4.5, 5.0, …"
      ]
     },
     "metadata": {},
     "output_type": "display_data"
    }
   ],
   "source": [
    "graficador('exp-doble-2mat')\n"
   ]
  }
 ],
 "metadata": {
  "kernelspec": {
   "display_name": "Python 3 (ipykernel)",
   "language": "python",
   "name": "python3"
  },
  "language_info": {
   "codemirror_mode": {
    "name": "ipython",
    "version": 3
   },
   "file_extension": ".py",
   "mimetype": "text/x-python",
   "name": "python",
   "nbconvert_exporter": "python",
   "pygments_lexer": "ipython3",
   "version": "3.9.13"
  }
 },
 "nbformat": 4,
 "nbformat_minor": 5
}
